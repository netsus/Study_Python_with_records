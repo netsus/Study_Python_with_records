{
 "cells": [
  {
   "cell_type": "markdown",
   "metadata": {},
   "source": [
    "## Python 학습"
   ]
  },
  {
   "cell_type": "markdown",
   "metadata": {},
   "source": [
    "### 정규표현식 re library"
   ]
  },
  {
   "cell_type": "markdown",
   "metadata": {},
   "source": [
    "#### .\\*       (.\\*)      (.\\*?)       차이\n",
    "- https://stackoverflow.com/questions/27881366/regular-expressions-and"
   ]
  },
  {
   "cell_type": "code",
   "execution_count": 1,
   "metadata": {
    "ExecuteTime": {
     "end_time": "2021-08-09T09:17:22.583042Z",
     "start_time": "2021-08-09T09:17:22.566042Z"
    }
   },
   "outputs": [],
   "source": [
    "import re\n",
    "txt = '''\n",
    " foo\n",
    " bar\n",
    " baz '''"
   ]
  },
  {
   "cell_type": "markdown",
   "metadata": {},
   "source": [
    "1. .* : 모든 문자와 일치.(dotall이 사용되는 경우 개행(\\n 포함). 그리디로 최대한 일치하는거 모두 찾음.\n",
    "2. (.*) :\n",
    "3. (.*?) : "
   ]
  },
  {
   "cell_type": "code",
   "execution_count": 6,
   "metadata": {
    "ExecuteTime": {
     "end_time": "2021-08-09T09:21:28.394571Z",
     "start_time": "2021-08-09T09:21:28.390567Z"
    }
   },
   "outputs": [
    {
     "name": "stdout",
     "output_type": "stream",
     "text": [
      "('',)\n",
      "(' foo',)\n",
      "('',)\n",
      "(' bar',)\n",
      "('',)\n",
      "(' baz ',)\n",
      "('',)\n"
     ]
    }
   ],
   "source": [
    "for found in re.finditer('(.*)', txt):\n",
    "     print(found.groups())"
   ]
  },
  {
   "cell_type": "code",
   "execution_count": 5,
   "metadata": {
    "ExecuteTime": {
     "end_time": "2021-08-09T09:21:16.455160Z",
     "start_time": "2021-08-09T09:21:16.440157Z"
    }
   },
   "outputs": [
    {
     "name": "stdout",
     "output_type": "stream",
     "text": [
      "()\n",
      "()\n",
      "()\n",
      "()\n",
      "()\n",
      "()\n",
      "()\n"
     ]
    }
   ],
   "source": [
    "for found in re.finditer('.*', txt):\n",
    "     print(found.groups())"
   ]
  },
  {
   "cell_type": "code",
   "execution_count": 8,
   "metadata": {
    "ExecuteTime": {
     "end_time": "2021-08-09T09:22:37.837595Z",
     "start_time": "2021-08-09T09:22:37.829594Z"
    }
   },
   "outputs": [
    {
     "name": "stdout",
     "output_type": "stream",
     "text": [
      "()\n",
      "()\n",
      "('\\n foo\\n bar\\n baz ',)\n",
      "('',)\n"
     ]
    }
   ],
   "source": [
    "for found in re.finditer('.*', txt, re.DOTALL):\n",
    "     print(found.groups())\n",
    "\n",
    "for found in re.finditer('(.*)', txt, re.DOTALL):\n",
    "     print(found.groups())"
   ]
  },
  {
   "cell_type": "code",
   "execution_count": 7,
   "metadata": {
    "ExecuteTime": {
     "end_time": "2021-08-09T09:22:29.214706Z",
     "start_time": "2021-08-09T09:22:29.205741Z"
    }
   },
   "outputs": [
    {
     "name": "stdout",
     "output_type": "stream",
     "text": [
      "('',)\n",
      "('\\n',)\n",
      "('',)\n",
      "(' ',)\n",
      "('',)\n",
      "('f',)\n",
      "('',)\n",
      "('o',)\n",
      "('',)\n",
      "('o',)\n",
      "('',)\n",
      "('\\n',)\n",
      "('',)\n",
      "(' ',)\n",
      "('',)\n",
      "('b',)\n",
      "('',)\n",
      "('a',)\n",
      "('',)\n",
      "('r',)\n",
      "('',)\n",
      "('\\n',)\n",
      "('',)\n",
      "(' ',)\n",
      "('',)\n",
      "('b',)\n",
      "('',)\n",
      "('a',)\n",
      "('',)\n",
      "('z',)\n",
      "('',)\n",
      "(' ',)\n",
      "('',)\n"
     ]
    }
   ],
   "source": [
    "for found in re.finditer('(.*?)', txt, re.DOTALL):\n",
    "    print(found.groups())"
   ]
  }
 ],
 "metadata": {
  "kernelspec": {
   "display_name": "Python 3",
   "language": "python",
   "name": "python3"
  },
  "language_info": {
   "codemirror_mode": {
    "name": "ipython",
    "version": 3
   },
   "file_extension": ".py",
   "mimetype": "text/x-python",
   "name": "python",
   "nbconvert_exporter": "python",
   "pygments_lexer": "ipython3",
   "version": "3.7.4"
  },
  "toc": {
   "base_numbering": 1,
   "nav_menu": {},
   "number_sections": true,
   "sideBar": true,
   "skip_h1_title": false,
   "title_cell": "Table of Contents",
   "title_sidebar": "Contents",
   "toc_cell": false,
   "toc_position": {},
   "toc_section_display": true,
   "toc_window_display": false
  }
 },
 "nbformat": 4,
 "nbformat_minor": 2
}
